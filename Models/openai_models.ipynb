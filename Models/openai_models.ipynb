{
 "cells": [
  {
   "cell_type": "code",
   "execution_count": 1,
   "id": "dd65445e",
   "metadata": {},
   "outputs": [
    {
     "name": "stderr",
     "output_type": "stream",
     "text": [
      "/workspaces/Langchain-Tutorial/myenv/lib/python3.12/site-packages/tqdm/auto.py:21: TqdmWarning: IProgress not found. Please update jupyter and ipywidgets. See https://ipywidgets.readthedocs.io/en/stable/user_install.html\n",
      "  from .autonotebook import tqdm as notebook_tqdm\n"
     ]
    },
    {
     "data": {
      "text/plain": [
       "True"
      ]
     },
     "execution_count": 1,
     "metadata": {},
     "output_type": "execute_result"
    }
   ],
   "source": [
    "from dotenv import load_dotenv\n",
    "import os,getpass\n",
    "from langchain_openai import OpenAI, ChatOpenAI\n",
    "load_dotenv()"
   ]
  },
  {
   "cell_type": "code",
   "execution_count": 2,
   "id": "c981d503",
   "metadata": {},
   "outputs": [
    {
     "name": "stdout",
     "output_type": "stream",
     "text": [
      "OPENAI_API_KEY not found in .env file.\n"
     ]
    }
   ],
   "source": [
    "openai_api_key = os.getenv(\"OPENAI_API_KEY\")\n",
    "if openai_api_key:\n",
    "    os.environ[\"OPENAI_API_KEY\"] = openai_api_key\n",
    "    print(\"OPENAI_API_KEY found in .env file.\")\n",
    "else:\n",
    "    print(\"OPENAI_API_KEY not found in .env file.\")\n",
    "    os.environ[\"OPENAI_API_KEY\"] = getpass.getpass(\"Enter OPENAI API key: \")\n",
    "\n",
    "os.environ[\"OPENAI_API_BASE\"] = \"https://api.openai.com/v1\""
   ]
  },
  {
   "cell_type": "markdown",
   "id": "11978996",
   "metadata": {},
   "source": [
    "## LLM"
   ]
  },
  {
   "cell_type": "code",
   "execution_count": 3,
   "id": "96d811fc",
   "metadata": {},
   "outputs": [],
   "source": [
    "openai_llm = OpenAI(model = \"gpt-3.5-turbo-instruct\")"
   ]
  },
  {
   "cell_type": "code",
   "execution_count": 5,
   "id": "bc51e27d",
   "metadata": {},
   "outputs": [],
   "source": [
    "question = \"You have a 3-liter jug and a 5-liter jug. How can you measure exactly 4 liters of water?\""
   ]
  },
  {
   "cell_type": "code",
   "execution_count": 4,
   "id": "b130ed1a",
   "metadata": {},
   "outputs": [
    {
     "data": {
      "text/plain": [
       "\"\\n\\nI'm a little shy at first but I'm doing well, thank you for asking! How about you?\""
      ]
     },
     "execution_count": 4,
     "metadata": {},
     "output_type": "execute_result"
    }
   ],
   "source": [
    "openai_llm.invoke(\"Hello how are you\")"
   ]
  },
  {
   "cell_type": "code",
   "execution_count": 8,
   "id": "637b355c",
   "metadata": {},
   "outputs": [],
   "source": [
    "llm_res = openai_llm.invoke(question)"
   ]
  },
  {
   "cell_type": "code",
   "execution_count": 10,
   "id": "82a66033",
   "metadata": {},
   "outputs": [
    {
     "name": "stdout",
     "output_type": "stream",
     "text": [
      "\n",
      "\n",
      "1. Fill the 5-liter jug completely with water.\n",
      "2. Pour the water from the 5-liter jug into the 3-liter jug until it is full.\n",
      "3. This leaves 2 liters of water in the 5-liter jug.\n",
      "4. Empty the 3-liter jug and pour the 2 liters of water from the 5-liter jug into the 3-liter jug.\n",
      "5. The 3-liter jug now has 2 liters of space remaining.\n",
      "6. Fill the 5-liter jug completely with water again.\n",
      "7. Pour water from the 5-liter jug into the 3-liter jug until it is full.\n",
      "8. This will leave 1 liter of water in the 5-liter jug.\n",
      "9. Now the 3-liter jug has 4 liters of water (2 liters from step 4 and 2 liters from step 8).\n"
     ]
    }
   ],
   "source": [
    "print(llm_res)"
   ]
  },
  {
   "cell_type": "markdown",
   "id": "8e1cd75b",
   "metadata": {},
   "source": [
    "## Chat Models"
   ]
  },
  {
   "cell_type": "code",
   "execution_count": 11,
   "id": "4ee2bade",
   "metadata": {},
   "outputs": [],
   "source": [
    "openai_chat_model = ChatOpenAI(model = \"gpt-5-nano\")"
   ]
  },
  {
   "cell_type": "code",
   "execution_count": 12,
   "id": "b1678a7e",
   "metadata": {},
   "outputs": [],
   "source": [
    "chat_re =  openai_chat_model.invoke(question)"
   ]
  },
  {
   "cell_type": "code",
   "execution_count": 13,
   "id": "e45858a5",
   "metadata": {},
   "outputs": [
    {
     "data": {
      "text/plain": [
       "AIMessage(content='Do this to get 4 liters in the 5-liter jug:\\n\\n1) Fill the 5-liter jug (5, 0).  \\n2) Pour from the 5L into the 3L until the 3L is full → (2, 3).  \\n3) Empty the 3-liter jug → (2, 0).  \\n4) Pour the remaining 2 liters from the 5L into the 3L → (0, 2).  \\n5) Fill the 5-liter jug again → (5, 2).  \\n6) Pour from the 5L into the 3L until the 3L is full (needs 1 more liter) → (4, 3).\\n\\nNow the 5-liter jug has exactly 4 liters.', additional_kwargs={'refusal': None}, response_metadata={'token_usage': {'completion_tokens': 1707, 'prompt_tokens': 31, 'total_tokens': 1738, 'completion_tokens_details': {'accepted_prediction_tokens': 0, 'audio_tokens': 0, 'reasoning_tokens': 1536, 'rejected_prediction_tokens': 0}, 'prompt_tokens_details': {'audio_tokens': 0, 'cached_tokens': 0}}, 'model_provider': 'openai', 'model_name': 'gpt-5-nano-2025-08-07', 'system_fingerprint': None, 'id': 'chatcmpl-CSiadNUVKhfPRoY3Bm7jQXJcoQHA5', 'service_tier': 'default', 'finish_reason': 'stop', 'logprobs': None}, id='lc_run--aba5804a-6645-4e70-9838-34ab0a65767c-0', usage_metadata={'input_tokens': 31, 'output_tokens': 1707, 'total_tokens': 1738, 'input_token_details': {'audio': 0, 'cache_read': 0}, 'output_token_details': {'audio': 0, 'reasoning': 1536}})"
      ]
     },
     "execution_count": 13,
     "metadata": {},
     "output_type": "execute_result"
    }
   ],
   "source": [
    "chat_re"
   ]
  },
  {
   "cell_type": "code",
   "execution_count": 14,
   "id": "2307db89",
   "metadata": {},
   "outputs": [
    {
     "name": "stdout",
     "output_type": "stream",
     "text": [
      "Do this to get 4 liters in the 5-liter jug:\n",
      "\n",
      "1) Fill the 5-liter jug (5, 0).  \n",
      "2) Pour from the 5L into the 3L until the 3L is full → (2, 3).  \n",
      "3) Empty the 3-liter jug → (2, 0).  \n",
      "4) Pour the remaining 2 liters from the 5L into the 3L → (0, 2).  \n",
      "5) Fill the 5-liter jug again → (5, 2).  \n",
      "6) Pour from the 5L into the 3L until the 3L is full (needs 1 more liter) → (4, 3).\n",
      "\n",
      "Now the 5-liter jug has exactly 4 liters.\n"
     ]
    }
   ],
   "source": [
    "print(chat_re.content)"
   ]
  },
  {
   "cell_type": "code",
   "execution_count": 15,
   "id": "6018145f",
   "metadata": {},
   "outputs": [
    {
     "data": {
      "text/plain": [
       "{'token_usage': {'completion_tokens': 1707,\n",
       "  'prompt_tokens': 31,\n",
       "  'total_tokens': 1738,\n",
       "  'completion_tokens_details': {'accepted_prediction_tokens': 0,\n",
       "   'audio_tokens': 0,\n",
       "   'reasoning_tokens': 1536,\n",
       "   'rejected_prediction_tokens': 0},\n",
       "  'prompt_tokens_details': {'audio_tokens': 0, 'cached_tokens': 0}},\n",
       " 'model_provider': 'openai',\n",
       " 'model_name': 'gpt-5-nano-2025-08-07',\n",
       " 'system_fingerprint': None,\n",
       " 'id': 'chatcmpl-CSiadNUVKhfPRoY3Bm7jQXJcoQHA5',\n",
       " 'service_tier': 'default',\n",
       " 'finish_reason': 'stop',\n",
       " 'logprobs': None}"
      ]
     },
     "execution_count": 15,
     "metadata": {},
     "output_type": "execute_result"
    }
   ],
   "source": [
    "chat_re.response_metadata"
   ]
  },
  {
   "cell_type": "code",
   "execution_count": 16,
   "id": "0e57cd7d",
   "metadata": {},
   "outputs": [
    {
     "data": {
      "text/plain": [
       "{'input_tokens': 31,\n",
       " 'output_tokens': 1707,\n",
       " 'total_tokens': 1738,\n",
       " 'input_token_details': {'audio': 0, 'cache_read': 0},\n",
       " 'output_token_details': {'audio': 0, 'reasoning': 1536}}"
      ]
     },
     "execution_count": 16,
     "metadata": {},
     "output_type": "execute_result"
    }
   ],
   "source": [
    "chat_re.usage_metadata"
   ]
  },
  {
   "cell_type": "markdown",
   "id": "319b4791",
   "metadata": {},
   "source": [
    "### Inferencing Param"
   ]
  },
  {
   "cell_type": "code",
   "execution_count": 17,
   "id": "641b8cef",
   "metadata": {},
   "outputs": [],
   "source": [
    "openai_chat_model_1 = ChatOpenAI(model = \"gpt-5-nano\",temperature = 0.7)"
   ]
  },
  {
   "cell_type": "code",
   "execution_count": 18,
   "id": "68dc9be9",
   "metadata": {},
   "outputs": [],
   "source": [
    "chat_re_1 =  openai_chat_model_1.invoke(question)"
   ]
  },
  {
   "cell_type": "code",
   "execution_count": 20,
   "id": "faf2577e",
   "metadata": {},
   "outputs": [
    {
     "name": "stdout",
     "output_type": "stream",
     "text": [
      "Here's a sequence that ends with 4 liters in the 5-liter jug:\n",
      "\n",
      "1) Fill the 5-liter jug. (0, 5)\n",
      "2) Pour from 5L to 3L until the 3L is full. (3, 2)\n",
      "3) Empty the 3-liter jug. (0, 2)\n",
      "4) Pour the 2 liters from the 5L into the 3L. (2, 0)\n",
      "5) Fill the 5-liter jug again. (2, 5)\n",
      "6) Pour from the 5L to the 3L until the 3L is full. The 3L needs 1 more liter, so 5L is left with 4 liters. (3, 4)\n",
      "\n",
      "Now you have exactly 4 liters in the 5-liter jug.\n"
     ]
    }
   ],
   "source": [
    "print(chat_re_1.content)"
   ]
  },
  {
   "cell_type": "code",
   "execution_count": 21,
   "id": "52a831b1",
   "metadata": {},
   "outputs": [
    {
     "name": "stdout",
     "output_type": "stream",
     "text": [
      "Do this to get 4 liters in the 5-liter jug:\n",
      "\n",
      "1) Fill the 5-liter jug (5, 0).  \n",
      "2) Pour from the 5L into the 3L until the 3L is full → (2, 3).  \n",
      "3) Empty the 3-liter jug → (2, 0).  \n",
      "4) Pour the remaining 2 liters from the 5L into the 3L → (0, 2).  \n",
      "5) Fill the 5-liter jug again → (5, 2).  \n",
      "6) Pour from the 5L into the 3L until the 3L is full (needs 1 more liter) → (4, 3).\n",
      "\n",
      "Now the 5-liter jug has exactly 4 liters.\n"
     ]
    }
   ],
   "source": [
    "print(chat_re.content)"
   ]
  },
  {
   "cell_type": "code",
   "execution_count": null,
   "id": "fe063fef",
   "metadata": {},
   "outputs": [],
   "source": []
  }
 ],
 "metadata": {
  "kernelspec": {
   "display_name": "myenv",
   "language": "python",
   "name": "python3"
  },
  "language_info": {
   "codemirror_mode": {
    "name": "ipython",
    "version": 3
   },
   "file_extension": ".py",
   "mimetype": "text/x-python",
   "name": "python",
   "nbconvert_exporter": "python",
   "pygments_lexer": "ipython3",
   "version": "3.12.1"
  }
 },
 "nbformat": 4,
 "nbformat_minor": 5
}

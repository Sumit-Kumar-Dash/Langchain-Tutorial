{
 "cells": [
  {
   "cell_type": "code",
   "execution_count": 1,
   "id": "e576533f",
   "metadata": {},
   "outputs": [
    {
     "name": "stderr",
     "output_type": "stream",
     "text": [
      "/workspaces/Langchain-Tutorial/myenv/lib/python3.12/site-packages/tqdm/auto.py:21: TqdmWarning: IProgress not found. Please update jupyter and ipywidgets. See https://ipywidgets.readthedocs.io/en/stable/user_install.html\n",
      "  from .autonotebook import tqdm as notebook_tqdm\n"
     ]
    }
   ],
   "source": [
    "from dotenv import load_dotenv\n",
    "import os, getpass\n",
    "from langchain_huggingface import ChatHuggingFace\n",
    "from langchain_huggingface import HuggingFaceEndpoint,HuggingFacePipeline\n",
    "load_dotenv()  # Loads environment variables from .env file\n",
    "\n",
    "# ignore all warnings in this notebook\n",
    "import warnings\n",
    "warnings.filterwarnings(\"ignore\")"
   ]
  },
  {
   "cell_type": "code",
   "execution_count": 2,
   "id": "385a29d4",
   "metadata": {},
   "outputs": [
    {
     "name": "stdout",
     "output_type": "stream",
     "text": [
      "HUGGINGFACEHUB_API_TOKEN not found in .env file.\n"
     ]
    }
   ],
   "source": [
    "huggingface_api_key = os.getenv(\"HUGGINGFACEHUB_API_TOKEN\")\n",
    "if huggingface_api_key:\n",
    "    os.environ[\"HUGGINGFACEHUB_API_TOKEN\"] = huggingface_api_key\n",
    "    print(\"HUGGINGFACEHUB_API_TOKEN found in .env file.\")\n",
    "\n",
    "else:\n",
    "    print(\"HUGGINGFACEHUB_API_TOKEN not found in .env file.\")\n",
    "    os.environ[\"HUGGINGFACEHUB_API_TOKEN\"] = getpass.getpass(\"Enter Hugging Face API key: \")"
   ]
  },
  {
   "cell_type": "markdown",
   "id": "4a89021c",
   "metadata": {},
   "source": [
    "## HuggingFaceEndpoint"
   ]
  },
  {
   "cell_type": "markdown",
   "id": "d8950136",
   "metadata": {},
   "source": [
    "**What do you mean by huggingface endpoint here?**\n",
    "\n",
    "A Hugging Face Endpoint allows you to deploy and serve your models in the cloud, making it easy to integrate them into applications without worrying about the underlying infrastructure.\n"
   ]
  },
  {
   "cell_type": "code",
   "execution_count": 3,
   "id": "fa4ef107",
   "metadata": {},
   "outputs": [],
   "source": [
    "deepseek_llm_endpoint = HuggingFaceEndpoint(\n",
    "    repo_id=\"deepseek-ai/DeepSeek-R1-0528\",\n",
    "    task=\"text-generation\",\n",
    "    max_new_tokens=512,\n",
    "    provider=\"auto\",  # let Hugging Face choose the best provider for you\n",
    ")\n",
    "\n",
    "hf_chat_model = ChatHuggingFace(llm = deepseek_llm_endpoint)"
   ]
  },
  {
   "cell_type": "code",
   "execution_count": 4,
   "id": "417bfc4c",
   "metadata": {},
   "outputs": [
    {
     "name": "stdout",
     "output_type": "stream",
     "text": [
      "content='<think>\\nI have this problem: A farmer has 17 sheep. All but 9 run away. How many are left?\\n\\nFirst, I need to understand what \"all but 9\" means. I think it means that all sheep except for 9 ran away. So, if all except 9 ran away, that means 9 are left.\\n\\nLet me read it again: \"All but 9 run away.\" So, \"all but\" usually means \"except for.\" For example, \"all but one\" means everyone except one.\\n\\nSo here, \"all but 9\" should mean all except 9. So, all sheep except 9 ran away, which means 9 did not run away and are left.\\n\\nThe farmer has 17 sheep. If all except 9 ran away, then 9 are left.\\n\\nBut let me double-check. If 9 ran away, then 17 minus 9 is 8 left, but the phrase is \"all but 9 run away,\" which I think means that 9 are the ones that didn\\'t run away.\\n\\nI can think in terms of who ran away. \"All but 9 run away\" means that all except 9 ran away, so 9 did not run away.\\n\\nTherefore, the number left should be 9.\\n\\nBut let me make sure with an example. Suppose there are 10 sheep, all but 3 run away. That would mean except for 3 ran away, so 3 are left. 10 - 7 = 3, but 7 ran away, which is all except 3.\\n\\nIn this case, with 17, if all except 9 ran away, then 9 are left.\\n\\nThe total is 17. If 9 didn\\'t run away, they are left.\\n\\nI think I\\'m overcomplicating it.\\n\\nAnother way: \"all but 9\" can be misinterpreted, but in standard English, it should be clear.\\n\\nLet me look for similar expressions. Like, \"the party was all but over\" means it was almost over, but here it\\'s different.\\n\\nIn this context, it\\'s about actions: \"run away.\"\\n\\n\"All but 9 run away\" — the subject is \"all but 9,\" and they run away. But \"all but 9\" refers to the sheep except 9.\\n\\nI think I\\'m confusing myself.\\n\\nLet me parse the sentence.\\n\\nThe sentence is: \"All but 9 run away.\"\\n\\n\"All but 9\" is the subject, meaning \"all except for 9,\" so this group runs away.\\n\\nTherefore, all except for 9 sheep ran away.\\n\\nHence, 9 sheep did not run away and are left.\\n\\nSo, with 17 sheep, 9 are left.\\n\\nIf it were \"all 9 run away,\" that would be different, but it\\'s \"all but 9.\"\\n\\n\"All but\" is the key phrase.\\n\\nI recall that in some contexts, people might misread it, but grammatically, it should be as I thought.\\n\\nPerhaps it\\'s a trick question.\\n\\nAnother thought: sometimes \"all but\" can mean \"almost\" or \"nearly,\" like \"he was all but dead,\" meaning he was almost dead.\\n\\nBut here, it\\'s not about a state; it\\'s about an action. \"Run away\" is an action, so it should be literal.\\n\\nMoreover, with numbers, it\\'s usually precise.\\n\\nFor example, \"all but five students passed the test\" means all except five passed, so five failed.\\n\\nSimilarly here, all but nine ran away, so nine did not run away.\\n\\nTherefore, nine are left.\\n\\nSo for 17 sheep, all except 9 ran away, so 9 left.\\n\\nThus, the answer should be 9.\\n\\nBut the problem says \"how many are left?\" and I think it\\'s straightforward.\\n\\nPerhaps there\\'s a misinterpretation where people think \"all but 9\" means that 9 ran away, but that would be incorrect grammar, I think.\\n\\nFor instance, if you say \"9 ran away,\" that\\'s clear, but \"all but 9 run away\" is different.\\n\\nI think I should go with 9.\\n\\nLet X be the number that ran away.\\n\\n\"All but 9 run away\" means that except for 9, all ran away, so the number that ran away is total minus 9.\\n\\nTotal is 17, so ran away: 17 - 9 = 8.\\n\\nThen left: 9.\\n\\nIf all but 9 run away, that means 9 did not run away, so left: 9.\\n\\nDirectly.\\n\\nI think I\\'m settled.\\n\\nSo, the farmer has 17 sheep.\\n\\nAll but 9 run away, so 9 are left.\\n\\nTherefore, the number left is 9.\\n</think>\\n\\nThe phrase \"all but 9\" means all sheep except for 9. Therefore, if all except 9 sheep ran away, then 9 sheep are left.\\n\\nThe farmer started with 17 sheep, and after all but 9 run away, the number of sheep remaining is 9.' additional_kwargs={} response_metadata={'token_usage': {'completion_tokens': 1045, 'prompt_tokens': 24, 'total_tokens': 1069}, 'model_name': 'deepseek-ai/DeepSeek-R1-0528', 'system_fingerprint': '', 'finish_reason': 'stop', 'logprobs': None} id='lc_run--2cd4a2d9-31a2-49de-8049-a7cc2bfad3fc-0' usage_metadata={'input_tokens': 24, 'output_tokens': 1045, 'total_tokens': 1069}\n"
     ]
    }
   ],
   "source": [
    "deepseek_result = hf_chat_model.invoke(\"A farmer has 17 sheep. All but 9 run away. How many are left?\")\n",
    "print(deepseek_result)"
   ]
  },
  {
   "cell_type": "code",
   "execution_count": 6,
   "id": "81459826",
   "metadata": {},
   "outputs": [
    {
     "name": "stdout",
     "output_type": "stream",
     "text": [
      "<think>\n",
      "I have this problem: A farmer has 17 sheep. All but 9 run away. How many are left?\n",
      "\n",
      "First, I need to understand what \"all but 9\" means. I think it means that all sheep except for 9 ran away. So, if all except 9 ran away, that means 9 are left.\n",
      "\n",
      "Let me read it again: \"All but 9 run away.\" So, \"all but\" usually means \"except for.\" For example, \"all but one\" means everyone except one.\n",
      "\n",
      "So here, \"all but 9\" should mean all except 9. So, all sheep except 9 ran away, which means 9 did not run away and are left.\n",
      "\n",
      "The farmer has 17 sheep. If all except 9 ran away, then 9 are left.\n",
      "\n",
      "But let me double-check. If 9 ran away, then 17 minus 9 is 8 left, but the phrase is \"all but 9 run away,\" which I think means that 9 are the ones that didn't run away.\n",
      "\n",
      "I can think in terms of who ran away. \"All but 9 run away\" means that all except 9 ran away, so 9 did not run away.\n",
      "\n",
      "Therefore, the number left should be 9.\n",
      "\n",
      "But let me make sure with an example. Suppose there are 10 sheep, all but 3 run away. That would mean except for 3 ran away, so 3 are left. 10 - 7 = 3, but 7 ran away, which is all except 3.\n",
      "\n",
      "In this case, with 17, if all except 9 ran away, then 9 are left.\n",
      "\n",
      "The total is 17. If 9 didn't run away, they are left.\n",
      "\n",
      "I think I'm overcomplicating it.\n",
      "\n",
      "Another way: \"all but 9\" can be misinterpreted, but in standard English, it should be clear.\n",
      "\n",
      "Let me look for similar expressions. Like, \"the party was all but over\" means it was almost over, but here it's different.\n",
      "\n",
      "In this context, it's about actions: \"run away.\"\n",
      "\n",
      "\"All but 9 run away\" — the subject is \"all but 9,\" and they run away. But \"all but 9\" refers to the sheep except 9.\n",
      "\n",
      "I think I'm confusing myself.\n",
      "\n",
      "Let me parse the sentence.\n",
      "\n",
      "The sentence is: \"All but 9 run away.\"\n",
      "\n",
      "\"All but 9\" is the subject, meaning \"all except for 9,\" so this group runs away.\n",
      "\n",
      "Therefore, all except for 9 sheep ran away.\n",
      "\n",
      "Hence, 9 sheep did not run away and are left.\n",
      "\n",
      "So, with 17 sheep, 9 are left.\n",
      "\n",
      "If it were \"all 9 run away,\" that would be different, but it's \"all but 9.\"\n",
      "\n",
      "\"All but\" is the key phrase.\n",
      "\n",
      "I recall that in some contexts, people might misread it, but grammatically, it should be as I thought.\n",
      "\n",
      "Perhaps it's a trick question.\n",
      "\n",
      "Another thought: sometimes \"all but\" can mean \"almost\" or \"nearly,\" like \"he was all but dead,\" meaning he was almost dead.\n",
      "\n",
      "But here, it's not about a state; it's about an action. \"Run away\" is an action, so it should be literal.\n",
      "\n",
      "Moreover, with numbers, it's usually precise.\n",
      "\n",
      "For example, \"all but five students passed the test\" means all except five passed, so five failed.\n",
      "\n",
      "Similarly here, all but nine ran away, so nine did not run away.\n",
      "\n",
      "Therefore, nine are left.\n",
      "\n",
      "So for 17 sheep, all except 9 ran away, so 9 left.\n",
      "\n",
      "Thus, the answer should be 9.\n",
      "\n",
      "But the problem says \"how many are left?\" and I think it's straightforward.\n",
      "\n",
      "Perhaps there's a misinterpretation where people think \"all but 9\" means that 9 ran away, but that would be incorrect grammar, I think.\n",
      "\n",
      "For instance, if you say \"9 ran away,\" that's clear, but \"all but 9 run away\" is different.\n",
      "\n",
      "I think I should go with 9.\n",
      "\n",
      "Let X be the number that ran away.\n",
      "\n",
      "\"All but 9 run away\" means that except for 9, all ran away, so the number that ran away is total minus 9.\n",
      "\n",
      "Total is 17, so ran away: 17 - 9 = 8.\n",
      "\n",
      "Then left: 9.\n",
      "\n",
      "If all but 9 run away, that means 9 did not run away, so left: 9.\n",
      "\n",
      "Directly.\n",
      "\n",
      "I think I'm settled.\n",
      "\n",
      "So, the farmer has 17 sheep.\n",
      "\n",
      "All but 9 run away, so 9 are left.\n",
      "\n",
      "Therefore, the number left is 9.\n",
      "</think>\n",
      "\n",
      "The phrase \"all but 9\" means all sheep except for 9. Therefore, if all except 9 sheep ran away, then 9 sheep are left.\n",
      "\n",
      "The farmer started with 17 sheep, and after all but 9 run away, the number of sheep remaining is 9.\n"
     ]
    }
   ],
   "source": [
    "print(deepseek_result.content)"
   ]
  },
  {
   "cell_type": "code",
   "execution_count": 7,
   "id": "dda4b27b",
   "metadata": {},
   "outputs": [],
   "source": [
    "import re\n",
    "\n",
    "def extract_thinking(text):\n",
    "    pattern = re.compile(r\"<think>(.*?)</think>\", re.IGNORECASE | re.DOTALL)\n",
    "    matches = pattern.findall(text)\n",
    "    if matches:\n",
    "        return \"\\n\\n\".join(m.strip() for m in matches)\n",
    "    return text\n",
    "\n",
    "def extract_after_think(text):\n",
    "    pattern = re.compile(r\".*</think>(.*)\", re.IGNORECASE | re.DOTALL)\n",
    "    m = pattern.search(text)\n",
    "    if m:\n",
    "        return m.group(1).strip()\n",
    "    return text"
   ]
  },
  {
   "cell_type": "code",
   "execution_count": 8,
   "id": "1f997645",
   "metadata": {},
   "outputs": [
    {
     "data": {
      "text/plain": [
       "'I have this problem: A farmer has 17 sheep. All but 9 run away. How many are left?\\n\\nFirst, I need to understand what \"all but 9\" means. I think it means that all sheep except for 9 ran away. So, if all except 9 ran away, that means 9 are left.\\n\\nLet me read it again: \"All but 9 run away.\" So, \"all but\" usually means \"except for.\" For example, \"all but one\" means everyone except one.\\n\\nSo here, \"all but 9\" should mean all except 9. So, all sheep except 9 ran away, which means 9 did not run away and are left.\\n\\nThe farmer has 17 sheep. If all except 9 ran away, then 9 are left.\\n\\nBut let me double-check. If 9 ran away, then 17 minus 9 is 8 left, but the phrase is \"all but 9 run away,\" which I think means that 9 are the ones that didn\\'t run away.\\n\\nI can think in terms of who ran away. \"All but 9 run away\" means that all except 9 ran away, so 9 did not run away.\\n\\nTherefore, the number left should be 9.\\n\\nBut let me make sure with an example. Suppose there are 10 sheep, all but 3 run away. That would mean except for 3 ran away, so 3 are left. 10 - 7 = 3, but 7 ran away, which is all except 3.\\n\\nIn this case, with 17, if all except 9 ran away, then 9 are left.\\n\\nThe total is 17. If 9 didn\\'t run away, they are left.\\n\\nI think I\\'m overcomplicating it.\\n\\nAnother way: \"all but 9\" can be misinterpreted, but in standard English, it should be clear.\\n\\nLet me look for similar expressions. Like, \"the party was all but over\" means it was almost over, but here it\\'s different.\\n\\nIn this context, it\\'s about actions: \"run away.\"\\n\\n\"All but 9 run away\" — the subject is \"all but 9,\" and they run away. But \"all but 9\" refers to the sheep except 9.\\n\\nI think I\\'m confusing myself.\\n\\nLet me parse the sentence.\\n\\nThe sentence is: \"All but 9 run away.\"\\n\\n\"All but 9\" is the subject, meaning \"all except for 9,\" so this group runs away.\\n\\nTherefore, all except for 9 sheep ran away.\\n\\nHence, 9 sheep did not run away and are left.\\n\\nSo, with 17 sheep, 9 are left.\\n\\nIf it were \"all 9 run away,\" that would be different, but it\\'s \"all but 9.\"\\n\\n\"All but\" is the key phrase.\\n\\nI recall that in some contexts, people might misread it, but grammatically, it should be as I thought.\\n\\nPerhaps it\\'s a trick question.\\n\\nAnother thought: sometimes \"all but\" can mean \"almost\" or \"nearly,\" like \"he was all but dead,\" meaning he was almost dead.\\n\\nBut here, it\\'s not about a state; it\\'s about an action. \"Run away\" is an action, so it should be literal.\\n\\nMoreover, with numbers, it\\'s usually precise.\\n\\nFor example, \"all but five students passed the test\" means all except five passed, so five failed.\\n\\nSimilarly here, all but nine ran away, so nine did not run away.\\n\\nTherefore, nine are left.\\n\\nSo for 17 sheep, all except 9 ran away, so 9 left.\\n\\nThus, the answer should be 9.\\n\\nBut the problem says \"how many are left?\" and I think it\\'s straightforward.\\n\\nPerhaps there\\'s a misinterpretation where people think \"all but 9\" means that 9 ran away, but that would be incorrect grammar, I think.\\n\\nFor instance, if you say \"9 ran away,\" that\\'s clear, but \"all but 9 run away\" is different.\\n\\nI think I should go with 9.\\n\\nLet X be the number that ran away.\\n\\n\"All but 9 run away\" means that except for 9, all ran away, so the number that ran away is total minus 9.\\n\\nTotal is 17, so ran away: 17 - 9 = 8.\\n\\nThen left: 9.\\n\\nIf all but 9 run away, that means 9 did not run away, so left: 9.\\n\\nDirectly.\\n\\nI think I\\'m settled.\\n\\nSo, the farmer has 17 sheep.\\n\\nAll but 9 run away, so 9 are left.\\n\\nTherefore, the number left is 9.'"
      ]
     },
     "execution_count": 8,
     "metadata": {},
     "output_type": "execute_result"
    }
   ],
   "source": [
    "extract_thinking(deepseek_result.content)"
   ]
  },
  {
   "cell_type": "code",
   "execution_count": 9,
   "id": "e236458f",
   "metadata": {},
   "outputs": [
    {
     "data": {
      "text/plain": [
       "'The phrase \"all but 9\" means all sheep except for 9. Therefore, if all except 9 sheep ran away, then 9 sheep are left.\\n\\nThe farmer started with 17 sheep, and after all but 9 run away, the number of sheep remaining is 9.'"
      ]
     },
     "execution_count": 9,
     "metadata": {},
     "output_type": "execute_result"
    }
   ],
   "source": [
    "extract_after_think(deepseek_result.content)"
   ]
  },
  {
   "cell_type": "code",
   "execution_count": null,
   "id": "5d8ebce8",
   "metadata": {},
   "outputs": [],
   "source": []
  }
 ],
 "metadata": {
  "kernelspec": {
   "display_name": "myenv",
   "language": "python",
   "name": "python3"
  },
  "language_info": {
   "codemirror_mode": {
    "name": "ipython",
    "version": 3
   },
   "file_extension": ".py",
   "mimetype": "text/x-python",
   "name": "python",
   "nbconvert_exporter": "python",
   "pygments_lexer": "ipython3",
   "version": "3.12.1"
  }
 },
 "nbformat": 4,
 "nbformat_minor": 5
}

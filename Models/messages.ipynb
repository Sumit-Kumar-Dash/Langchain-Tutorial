{
 "cells": [
  {
   "cell_type": "code",
   "execution_count": 1,
   "id": "46cb8539",
   "metadata": {},
   "outputs": [
    {
     "name": "stderr",
     "output_type": "stream",
     "text": [
      "/home/codespace/.local/lib/python3.12/site-packages/tqdm/auto.py:21: TqdmWarning: IProgress not found. Please update jupyter and ipywidgets. See https://ipywidgets.readthedocs.io/en/stable/user_install.html\n",
      "  from .autonotebook import tqdm as notebook_tqdm\n"
     ]
    }
   ],
   "source": [
    "from dotenv import load_dotenv\n",
    "import os, getpass\n",
    "from langchain_google_genai import ChatGoogleGenerativeAI #BaseChatModel\n",
    "from langchain_google_genai import GoogleGenerativeAI #BaseLLM\n",
    "load_dotenv()  # Loads environment variables from .env file\n",
    "# ignore all warnings in this notebook\n",
    "import warnings\n",
    "warnings.filterwarnings(\"ignore\")"
   ]
  },
  {
   "cell_type": "code",
   "execution_count": 2,
   "id": "625e6f83",
   "metadata": {},
   "outputs": [
    {
     "name": "stdout",
     "output_type": "stream",
     "text": [
      "GOOGLE_API_KEY not found in .env file.\n"
     ]
    }
   ],
   "source": [
    "google_api_key = os.getenv(\"GOOGLE_API_KEY\")\n",
    "if google_api_key:\n",
    "    os.environ[\"GOOGLE_API_KEY\"] = google_api_key\n",
    "    print(\"GOOGLE_API_KEY found in .env file.\")\n",
    "else:\n",
    "    print(\"GOOGLE_API_KEY not found in .env file.\")\n",
    "    os.environ[\"GOOGLE_API_KEY\"] = getpass.getpass(\"Enter GEMINI API key: \")"
   ]
  },
  {
   "cell_type": "code",
   "execution_count": 3,
   "id": "74bf1c1f",
   "metadata": {},
   "outputs": [],
   "source": [
    "question = \"\"\"\n",
    "On an island, every person is either a truth-teller (always tells the truth) or a liar (always lies).\n",
    "Three inhabitants — A, B, and C — make the following statements:\n",
    "A says: “B is a liar.”\n",
    "B says: “C is a liar.”\n",
    "C says: “Both A and B are liars.”\n",
    "Question:\n",
    "Who is the truth-teller, and who are the liars?\"\"\""
   ]
  },
  {
   "cell_type": "code",
   "execution_count": 4,
   "id": "300b8f6e",
   "metadata": {},
   "outputs": [
    {
     "name": "stderr",
     "output_type": "stream",
     "text": [
      "WARNING: All log messages before absl::InitializeLog() is called are written to STDERR\n",
      "E0000 00:00:1761402575.024976    1761 alts_credentials.cc:93] ALTS creds ignored. Not running on GCP and untrusted ALTS is not enabled.\n"
     ]
    }
   ],
   "source": [
    "from langchain_google_genai import ChatGoogleGenerativeAI\n",
    "\n",
    "model = ChatGoogleGenerativeAI(model=\"gemini-2.0-flash-lite\")"
   ]
  },
  {
   "cell_type": "code",
   "execution_count": 5,
   "id": "50728206",
   "metadata": {},
   "outputs": [
    {
     "data": {
      "text/plain": [
       "ChatGoogleGenerativeAI(model='models/gemini-2.0-flash-lite', google_api_key=SecretStr('**********'), client=<google.ai.generativelanguage_v1beta.services.generative_service.client.GenerativeServiceClient object at 0x74ad99221490>, default_metadata=(), model_kwargs={})"
      ]
     },
     "execution_count": 5,
     "metadata": {},
     "output_type": "execute_result"
    }
   ],
   "source": [
    "model"
   ]
  },
  {
   "cell_type": "code",
   "execution_count": 7,
   "id": "8ce961a3",
   "metadata": {},
   "outputs": [],
   "source": [
    "res = model.invoke(question)"
   ]
  },
  {
   "cell_type": "code",
   "execution_count": 9,
   "id": "27625732",
   "metadata": {},
   "outputs": [
    {
     "data": {
      "text/plain": [
       "'Let\\'s analyze the statements:\\n\\n*   **Case 1: Assume A is a truth-teller.**\\n    *   If A is a truth-teller, then A\\'s statement \"B is a liar\" is true.\\n    *   If B is a liar, then B\\'s statement \"C is a liar\" is false (since a liar would lie about C being a liar).\\n    *   If C\\'s statement \"Both A and B are liars\" is false, then either A is a truth-teller (which we assumed) or B is a truth-teller. However, we already determined that B is a liar. This case is consistent.\\n\\n*   **Case 2: Assume A is a liar.**\\n    *   If A is a liar, then A\\'s statement \"B is a liar\" is false, meaning B is a truth-teller.\\n    *   If B is a truth-teller, then B\\'s statement \"C is a liar\" is true.\\n    *   If C is a liar, then C\\'s statement \"Both A and B are liars\" is false. This contradicts that A and C are liars. Therefore, this case is inconsistent.\\n\\nThus, the only consistent solution is:\\n\\n*   **A is a truth-teller.**\\n*   **B is a liar.**\\n*   **C is a liar.**\\n\\n**Therefore, A is the truth-teller, and B and C are the liars.**'"
      ]
     },
     "execution_count": 9,
     "metadata": {},
     "output_type": "execute_result"
    }
   ],
   "source": [
    "res.content"
   ]
  },
  {
   "cell_type": "code",
   "execution_count": 10,
   "id": "8b541118",
   "metadata": {},
   "outputs": [
    {
     "data": {
      "text/plain": [
       "langchain_core.messages.ai.AIMessage"
      ]
     },
     "execution_count": 10,
     "metadata": {},
     "output_type": "execute_result"
    }
   ],
   "source": [
    "type(res)"
   ]
  },
  {
   "cell_type": "code",
   "execution_count": 11,
   "id": "ac49de96",
   "metadata": {},
   "outputs": [
    {
     "data": {
      "text/plain": [
       "{'prompt_feedback': {'block_reason': 0, 'safety_ratings': []},\n",
       " 'finish_reason': 'STOP',\n",
       " 'model_name': 'gemini-2.0-flash-lite',\n",
       " 'safety_ratings': [],\n",
       " 'grounding_metadata': {},\n",
       " 'model_provider': 'google_genai'}"
      ]
     },
     "execution_count": 11,
     "metadata": {},
     "output_type": "execute_result"
    }
   ],
   "source": [
    "res.response_metadata"
   ]
  },
  {
   "cell_type": "code",
   "execution_count": 12,
   "id": "0bf8c8b2",
   "metadata": {},
   "outputs": [
    {
     "data": {
      "text/plain": [
       "{'input_tokens': 91,\n",
       " 'output_tokens': 312,\n",
       " 'total_tokens': 403,\n",
       " 'input_token_details': {'cache_read': 0}}"
      ]
     },
     "execution_count": 12,
     "metadata": {},
     "output_type": "execute_result"
    }
   ],
   "source": [
    "res.usage_metadata"
   ]
  },
  {
   "cell_type": "code",
   "execution_count": 13,
   "id": "55080f12",
   "metadata": {},
   "outputs": [
    {
     "data": {
      "text/plain": [
       "[{'type': 'text',\n",
       "  'text': 'Let\\'s analyze the statements:\\n\\n*   **Case 1: Assume A is a truth-teller.**\\n    *   If A is a truth-teller, then A\\'s statement \"B is a liar\" is true.\\n    *   If B is a liar, then B\\'s statement \"C is a liar\" is false (since a liar would lie about C being a liar).\\n    *   If C\\'s statement \"Both A and B are liars\" is false, then either A is a truth-teller (which we assumed) or B is a truth-teller. However, we already determined that B is a liar. This case is consistent.\\n\\n*   **Case 2: Assume A is a liar.**\\n    *   If A is a liar, then A\\'s statement \"B is a liar\" is false, meaning B is a truth-teller.\\n    *   If B is a truth-teller, then B\\'s statement \"C is a liar\" is true.\\n    *   If C is a liar, then C\\'s statement \"Both A and B are liars\" is false. This contradicts that A and C are liars. Therefore, this case is inconsistent.\\n\\nThus, the only consistent solution is:\\n\\n*   **A is a truth-teller.**\\n*   **B is a liar.**\\n*   **C is a liar.**\\n\\n**Therefore, A is the truth-teller, and B and C are the liars.**'}]"
      ]
     },
     "execution_count": 13,
     "metadata": {},
     "output_type": "execute_result"
    }
   ],
   "source": [
    "res.content_blocks"
   ]
  },
  {
   "cell_type": "code",
   "execution_count": 15,
   "id": "17797f46",
   "metadata": {},
   "outputs": [
    {
     "data": {
      "text/plain": [
       "'lc_run--ab675294-8912-498d-8876-46caf5e50fc0-0'"
      ]
     },
     "execution_count": 15,
     "metadata": {},
     "output_type": "execute_result"
    }
   ],
   "source": [
    "res.id"
   ]
  },
  {
   "cell_type": "code",
   "execution_count": 16,
   "id": "c6966cbb",
   "metadata": {},
   "outputs": [
    {
     "data": {
      "text/plain": [
       "[]"
      ]
     },
     "execution_count": 16,
     "metadata": {},
     "output_type": "execute_result"
    }
   ],
   "source": [
    "res.tool_calls"
   ]
  },
  {
   "cell_type": "code",
   "execution_count": 17,
   "id": "fbcaa61c",
   "metadata": {},
   "outputs": [],
   "source": [
    "from langchain_core.messages import HumanMessage\n",
    "\n",
    "human_msg = HumanMessage(\n",
    "    content=question,\n",
    ")"
   ]
  },
  {
   "cell_type": "code",
   "execution_count": 19,
   "id": "9c078556",
   "metadata": {},
   "outputs": [
    {
     "data": {
      "text/plain": [
       "AIMessage(content='Let\\'s analyze the statements:\\n\\n*   **Case 1: Assume A is a truth-teller.**\\n    *   If A is a truth-teller, then A\\'s statement \"B is a liar\" is true.\\n    *   If B is a liar, then B\\'s statement \"C is a liar\" is false (since a liar would lie and say C is a liar). This means C is a truth-teller.\\n    *   If C is a truth-teller, then C\\'s statement \"Both A and B are liars\" is false. However, we assumed A is a truth-teller. This is a contradiction. Therefore, A cannot be a truth-teller.\\n\\n*   **Case 2: Assume A is a liar.**\\n    *   If A is a liar, then A\\'s statement \"B is a liar\" is false. This means B is a truth-teller.\\n    *   If B is a truth-teller, then B\\'s statement \"C is a liar\" is true.\\n    *   If C is a liar, then C\\'s statement \"Both A and B are liars\" is false (because only A is a liar). This is consistent.\\n\\n**Conclusion:**\\n\\n*   A is a liar.\\n*   B is a truth-teller.\\n*   C is a liar.\\n\\n**Therefore, the answer is:**\\n\\n*   **B is the truth-teller.**\\n*   **A and C are liars.**', additional_kwargs={}, response_metadata={'prompt_feedback': {'block_reason': 0, 'safety_ratings': []}, 'finish_reason': 'STOP', 'model_name': 'gemini-2.0-flash-lite', 'safety_ratings': [], 'grounding_metadata': {}, 'model_provider': 'google_genai'}, id='lc_run--55fdaf48-c016-4afd-bb67-5c173c2cda4c-0', usage_metadata={'input_tokens': 91, 'output_tokens': 317, 'total_tokens': 408, 'input_token_details': {'cache_read': 0}})"
      ]
     },
     "execution_count": 19,
     "metadata": {},
     "output_type": "execute_result"
    }
   ],
   "source": [
    "model.invoke([human_msg])"
   ]
  },
  {
   "cell_type": "code",
   "execution_count": 20,
   "id": "c7b05ca6",
   "metadata": {},
   "outputs": [],
   "source": [
    "human_msg2 = HumanMessage(\n",
    "    content=\"hi\",\n",
    ")"
   ]
  },
  {
   "cell_type": "code",
   "execution_count": 21,
   "id": "a20f75ae",
   "metadata": {},
   "outputs": [
    {
     "data": {
      "text/plain": [
       "AIMessage(content='Here\\'s how we can solve this classic logic puzzle:\\n\\n**1. Analyze A\\'s statement:**\\n\\n*   If A is a truth-teller, then B is a liar.\\n*   If A is a liar, then B is a truth-teller.\\n\\n**2. Analyze B\\'s statement:**\\n\\n*   If B is a truth-teller, then C is a liar.\\n*   If B is a liar, then C is a truth-teller.\\n\\n**3. Analyze C\\'s statement:**\\n\\n*   If C is a truth-teller, then both A and B are liars.\\n*   If C is a liar, then at least one of A or B is a truth-teller.\\n\\n**4. Combine and eliminate possibilities:**\\n\\n*   **Assume A is a truth-teller:** If A is a truth-teller, then B is a liar. Since B is a liar, C must be a truth-teller. But if C is a truth-teller, then both A and B are liars, which contradicts our initial assumption that A is a truth-teller. Therefore, A cannot be a truth-teller.\\n*   **Assume A is a liar:** If A is a liar, then B is a truth-teller. If B is a truth-teller, then C is a liar. This scenario works:\\n    *   A is a liar (so his statement \"B is a liar\" is false).\\n    *   B is a truth-teller (so his statement \"C is a liar\" is true).\\n    *   C is a liar (so his statement \"Both A and B are liars\" is false).\\n\\n**5. Solution:**\\n\\n*   **A is a liar.**\\n*   **B is a truth-teller.**\\n*   **C is a liar.**', additional_kwargs={}, response_metadata={'prompt_feedback': {'block_reason': 0, 'safety_ratings': []}, 'finish_reason': 'STOP', 'model_name': 'gemini-2.0-flash-lite', 'safety_ratings': [], 'grounding_metadata': {}, 'model_provider': 'google_genai'}, id='lc_run--f2ed0f1d-d473-4e7c-ab43-c440468f2703-0', usage_metadata={'input_tokens': 92, 'output_tokens': 385, 'total_tokens': 477, 'input_token_details': {'cache_read': 0}})"
      ]
     },
     "execution_count": 21,
     "metadata": {},
     "output_type": "execute_result"
    }
   ],
   "source": [
    "model.invoke([human_msg2,human_msg])"
   ]
  },
  {
   "cell_type": "code",
   "execution_count": 22,
   "id": "179e50fb",
   "metadata": {},
   "outputs": [],
   "source": [
    "human_msg = HumanMessage(\n",
    "    content=question,\n",
    "    name= \"personA\",\n",
    "    id = \"msg123\"\n",
    ")"
   ]
  },
  {
   "cell_type": "code",
   "execution_count": 23,
   "id": "c111aa66",
   "metadata": {},
   "outputs": [
    {
     "data": {
      "text/plain": [
       "AIMessage(content='Let\\'s analyze the statements:\\n\\n*   **Case 1: Assume A is a truth-teller.**\\n    *   If A is a truth-teller, then A\\'s statement \"B is a liar\" is true.\\n    *   Since B is a liar, B\\'s statement \"C is a liar\" is false (because liars lie). This means C is a truth-teller.\\n    *   If C is a truth-teller, then C\\'s statement \"Both A and B are liars\" must be true. However, we assumed A is a truth-teller. This leads to a contradiction. So, A cannot be a truth-teller.\\n\\n*   **Case 2: Assume A is a liar.**\\n    *   If A is a liar, then A\\'s statement \"B is a liar\" is false. This means B is a truth-teller.\\n    *   If B is a truth-teller, then B\\'s statement \"C is a liar\" is true.\\n    *   If C is a liar, then C\\'s statement \"Both A and B are liars\" is false. This is consistent, as we know A is a liar and B is a truth-teller.\\n\\n**Conclusion:**\\n\\n*   A is a liar.\\n*   B is a truth-teller.\\n*   C is a liar.\\n\\n**Therefore:**\\n\\n*   **A is a liar.**\\n*   **B is a truth-teller.**\\n*   **C is a liar.**', additional_kwargs={}, response_metadata={'prompt_feedback': {'block_reason': 0, 'safety_ratings': []}, 'finish_reason': 'STOP', 'model_name': 'gemini-2.0-flash-lite', 'safety_ratings': [], 'grounding_metadata': {}, 'model_provider': 'google_genai'}, id='lc_run--50992deb-6ff7-498d-84cc-8f4b455b03f2-0', usage_metadata={'input_tokens': 91, 'output_tokens': 322, 'total_tokens': 413, 'input_token_details': {'cache_read': 0}})"
      ]
     },
     "execution_count": 23,
     "metadata": {},
     "output_type": "execute_result"
    }
   ],
   "source": [
    "model.invoke([human_msg])"
   ]
  },
  {
   "cell_type": "code",
   "execution_count": 25,
   "id": "97b50ec8",
   "metadata": {},
   "outputs": [
    {
     "data": {
      "text/plain": [
       "'\\nOn an island, every person is either a truth-teller (always tells the truth) or a liar (always lies).\\nThree inhabitants — A, B, and C — make the following statements:\\nA says: “B is a liar.”\\nB says: “C is a liar.”\\nC says: “Both A and B are liars.”\\nQuestion:\\nWho is the truth-teller, and who are the liars?'"
      ]
     },
     "execution_count": 25,
     "metadata": {},
     "output_type": "execute_result"
    }
   ],
   "source": [
    "human_msg.content"
   ]
  },
  {
   "cell_type": "code",
   "execution_count": 26,
   "id": "d48e6618",
   "metadata": {},
   "outputs": [
    {
     "data": {
      "text/plain": [
       "'personA'"
      ]
     },
     "execution_count": 26,
     "metadata": {},
     "output_type": "execute_result"
    }
   ],
   "source": [
    "human_msg.name"
   ]
  },
  {
   "cell_type": "code",
   "execution_count": 27,
   "id": "ca7caf92",
   "metadata": {},
   "outputs": [
    {
     "data": {
      "text/plain": [
       "'msg123'"
      ]
     },
     "execution_count": 27,
     "metadata": {},
     "output_type": "execute_result"
    }
   ],
   "source": [
    "human_msg.id"
   ]
  },
  {
   "cell_type": "code",
   "execution_count": 28,
   "id": "a9149a86",
   "metadata": {},
   "outputs": [],
   "source": [
    "from langchain.messages import HumanMessage,AIMessage,SystemMessage"
   ]
  },
  {
   "cell_type": "code",
   "execution_count": 29,
   "id": "b9b5bf96",
   "metadata": {},
   "outputs": [],
   "source": [
    "# detailed Persona\n",
    "\n",
    "system_msg = SystemMessage(\"\"\"\n",
    "You are a senior Python developer with expertise in web frameworks.\n",
    "Always provide code examples and explain your reasoning.\n",
    "Be concise but thorough in your explanations.\n",
    "\"\"\")\n",
    "\n",
    "messages = [\n",
    "    system_msg,\n",
    "    HumanMessage(\"How do I create a REST API?\")\n",
    "]\n",
    "response = model.invoke(messages)"
   ]
  },
  {
   "cell_type": "code",
   "execution_count": 31,
   "id": "843853f6",
   "metadata": {},
   "outputs": [
    {
     "name": "stdout",
     "output_type": "stream",
     "text": [
      "You can create a REST API using various Python web frameworks. Here's how to do it using Flask and FastAPI, two popular choices, along with explanations and code examples.\n",
      "\n",
      "**1. Flask**\n",
      "\n",
      "Flask is a microframework, meaning it provides the essentials without many built-in features. It's lightweight and flexible.\n",
      "\n",
      "*   **Installation:**\n",
      "\n",
      "    ```bash\n",
      "    pip install Flask\n",
      "    ```\n",
      "\n",
      "*   **Code Example:**\n",
      "\n",
      "    ```python\n",
      "    from flask import Flask, jsonify, request\n",
      "\n",
      "    app = Flask(__name__)\n",
      "\n",
      "    # Sample data (in-memory, for simplicity)\n",
      "    books = [\n",
      "        {\"id\": 1, \"title\": \"The Lord of the Rings\", \"author\": \"J.R.R. Tolkien\"},\n",
      "        {\"id\": 2, \"title\": \"Pride and Prejudice\", \"author\": \"Jane Austen\"},\n",
      "    ]\n",
      "\n",
      "    # GET /books - Retrieve all books\n",
      "    @app.route('/books', methods=['GET'])\n",
      "    def get_books():\n",
      "        return jsonify(books)\n",
      "\n",
      "    # GET /books/<id> - Retrieve a specific book by ID\n",
      "    @app.route('/books/<int:book_id>', methods=['GET'])\n",
      "    def get_book(book_id):\n",
      "        book = next((book for book in books if book['id'] == book_id), None)\n",
      "        if book:\n",
      "            return jsonify(book)\n",
      "        return jsonify({\"message\": \"Book not found\"}), 404 # 404 Not Found\n",
      "\n",
      "    # POST /books - Create a new book\n",
      "    @app.route('/books', methods=['POST'])\n",
      "    def create_book():\n",
      "        if not request.json or 'title' not in request.json or 'author' not in request.json:\n",
      "            return jsonify({\"message\": \"Invalid input\"}), 400 # 400 Bad Request\n",
      "        new_book = {\n",
      "            \"id\": books[-1]['id'] + 1 if books else 1,\n",
      "            \"title\": request.json['title'],\n",
      "            \"author\": request.json['author'],\n",
      "        }\n",
      "        books.append(new_book)\n",
      "        return jsonify(new_book), 201  # 201 Created\n",
      "\n",
      "    # PUT /books/<id> - Update an existing book\n",
      "    @app.route('/books/<int:book_id>', methods=['PUT'])\n",
      "    def update_book(book_id):\n",
      "        book = next((book for book in books if book['id'] == book_id), None)\n",
      "        if not book:\n",
      "            return jsonify({\"message\": \"Book not found\"}), 404\n",
      "\n",
      "        if not request.json:\n",
      "            return jsonify({\"message\": \"Invalid input\"}), 400\n",
      "\n",
      "        book['title'] = request.json.get('title', book['title']) # Update only provided fields\n",
      "        book['author'] = request.json.get('author', book['author'])\n",
      "        return jsonify(book)\n",
      "\n",
      "    # DELETE /books/<id> - Delete a book\n",
      "    @app.route('/books/<int:book_id>', methods=['DELETE'])\n",
      "    def delete_book(book_id):\n",
      "        global books  # Necessary if you reassign the 'books' list\n",
      "        books = [book for book in books if book['id'] != book_id] # Create a new list\n",
      "        return jsonify({\"message\": \"Book deleted\"}), 200\n",
      "\n",
      "    if __name__ == '__main__':\n",
      "        app.run(debug=True) # Enable debug mode for development\n",
      "    ```\n",
      "\n",
      "    *   **Explanation:**\n",
      "        *   `Flask(__name__)`: Creates a Flask application instance.\n",
      "        *   `@app.route()`: Decorators that define the API endpoints (URLs) and the HTTP methods they handle (GET, POST, PUT, DELETE).\n",
      "        *   `jsonify()`: Converts Python dictionaries into JSON responses.\n",
      "        *   `request`:  An object that contains the data sent in the HTTP request (e.g., JSON payload, form data).\n",
      "        *   Error Handling: Returning HTTP status codes (400, 404, 201, and 200) to indicate the result of the operation.\n",
      "        *   Data Handling: The example uses an in-memory list for simplicity.  In a real application, you'd use a database.\n",
      "        *   `debug=True`: Enables debug mode, which provides helpful error messages and automatically reloads the server on code changes (for development).  Do *not* use this in production.\n",
      "        *   Methods:\n",
      "            *   GET: Retrieves data.\n",
      "            *   POST: Creates data.\n",
      "            *   PUT: Updates data (replaces the entire resource).\n",
      "            *   DELETE: Deletes data.\n",
      "\n",
      "*   **How to Run and Test:**\n",
      "\n",
      "    1.  Save the code as a Python file (e.g., `api.py`).\n",
      "    2.  Run from your terminal: `python api.py`\n",
      "    3.  Use a tool like `curl`, `Postman`, or your web browser to test the API endpoints:\n",
      "\n",
      "        *   **GET /books:**  `curl http://127.0.0.1:5000/books`\n",
      "        *   **GET /books/1:** `curl http://127.0.0.1:5000/books/1`\n",
      "        *   **POST /books:**  `curl -X POST -H \"Content-Type: application/json\" -d '{\"title\": \"The Hobbit\", \"author\": \"J.R.R. Tolkien\"}' http://127.0.0.1:5000/books`\n",
      "        *   **PUT /books/1:** `curl -X PUT -H \"Content-Type: application/json\" -d '{\"title\": \"Updated Title\"}' http://127.0.0.1:5000/books/1`\n",
      "        *   **DELETE /books/1:** `curl -X DELETE http://127.0.0.1:5000/books/1`\n",
      "\n",
      "**2. FastAPI**\n",
      "\n",
      "FastAPI is a modern, high-performance web framework for building APIs with Python 3.7+ based on standard Python type hints.  It has built-in data validation, automatic documentation (using Swagger UI and ReDoc), and is generally faster than Flask for many use cases.\n",
      "\n",
      "*   **Installation:**\n",
      "\n",
      "    ```bash\n",
      "    pip install fastapi uvicorn\n",
      "    ```\n",
      "\n",
      "    *   `fastapi`: The FastAPI framework itself.\n",
      "    *   `uvicorn`: An ASGI server (used to run FastAPI applications).\n",
      "\n",
      "*   **Code Example:**\n",
      "\n",
      "    ```python\n",
      "    from typing import List, Optional\n",
      "    from fastapi import FastAPI, HTTPException\n",
      "    from pydantic import BaseModel\n",
      "\n",
      "    app = FastAPI()\n",
      "\n",
      "    # Define data model using Pydantic\n",
      "    class Book(BaseModel):\n",
      "        id: Optional[int] = None # Optional for POST (auto-increment)\n",
      "        title: str\n",
      "        author: str\n",
      "\n",
      "    books: List[Book] = [\n",
      "        Book(id=1, title=\"The Lord of the Rings\", author=\"J.R.R. Tolkien\"),\n",
      "        Book(id=2, title=\"Pride and Prejudice\", author=\"Jane Austen\"),\n",
      "    ]\n",
      "\n",
      "    # GET /books\n",
      "    @app.get(\"/books\", response_model=List[Book])\n",
      "    def get_books():\n",
      "        return books\n",
      "\n",
      "    # GET /books/{book_id}\n",
      "    @app.get(\"/books/{book_id}\", response_model=Book)\n",
      "    def get_book(book_id: int):\n",
      "        book = next((book for book in books if book.id == book_id), None)\n",
      "        if book is None:\n",
      "            raise HTTPException(status_code=404, detail=\"Book not found\")\n",
      "        return book\n",
      "\n",
      "    # POST /books\n",
      "    @app.post(\"/books\", response_model=Book, status_code=201)\n",
      "    def create_book(book: Book):\n",
      "        book.id = len(books) + 1 # Simple auto-increment\n",
      "        books.append(book)\n",
      "        return book\n",
      "\n",
      "    # PUT /books/{book_id}\n",
      "    @app.put(\"/books/{book_id}\", response_model=Book)\n",
      "    def update_book(book_id: int, updated_book: Book):\n",
      "        book = next((book for book in books if book.id == book_id), None)\n",
      "        if book is None:\n",
      "            raise HTTPException(status_code=404, detail=\"Book not found\")\n",
      "        book.title = updated_book.title\n",
      "        book.author = updated_book.author\n",
      "        return book\n",
      "\n",
      "    # DELETE /books/{book_id}\n",
      "    @app.delete(\"/books/{book_id}\", status_code=204) # 204 No Content\n",
      "    def delete_book(book_id: int):\n",
      "        global books # Need to declare global if modifying the list in place\n",
      "        initial_length = len(books)\n",
      "        books = [book for book in books if book.id != book_id]\n",
      "        if len(books) == initial_length:\n",
      "            raise HTTPException(status_code=404, detail=\"Book not found\")\n",
      "        return # 204 No Content - no response body\n",
      "    ```\n",
      "\n",
      "    *   **Explanation:**\n",
      "        *   `FastAPI()`: Creates a FastAPI application instance.\n",
      "        *   `BaseModel` (from `pydantic`): Used to define data models with type hints.  This enables data validation (automatically validates request data) and automatic documentation.\n",
      "        *   Type Hints:  Used extensively (e.g., `book_id: int`, `book: Book`) for data validation and documentation.\n",
      "        *   `response_model`:  Specifies the data model for the response, which is used for automatic data serialization and documentation.\n",
      "        *   `HTTPException`:  Used to raise HTTP errors with specific status codes and details.\n",
      "        *   Automatic Documentation:  FastAPI automatically generates API documentation using Swagger UI (accessible at `/docs`) and ReDoc (accessible at `/redoc`).\n",
      "        *   `status_code`:  Specifies the HTTP status code for the response.\n",
      "\n",
      "*   **How to Run and Test:**\n",
      "\n",
      "    1.  Save the code (e.g., `api_fastapi.py`).\n",
      "    2.  Run from your terminal: `uvicorn api_fastapi:app --reload`  (The `--reload` flag enables automatic reloading on code changes, similar to Flask's debug mode).\n",
      "    3.  Test using `curl`, Postman, or a web browser:\n",
      "\n",
      "        *   **GET /books:**  `curl http://127.0.0.1:8000/books`\n",
      "        *   **GET /books/1:** `curl http://127.0.0.1:8000/books/1`\n",
      "        *   **POST /books:**  `curl -X POST -H \"Content-Type: application/json\" -d '{\"title\": \"The Hobbit\", \"author\": \"J.R.R. Tolkien\"}' http://127.0.0.1:8000/books`\n",
      "        *   **PUT /books/1:** `curl -X PUT -H \"Content-Type: application/json\" -d '{\"title\": \"Updated Title\", \"author\": \"Updated Author\"}' http://127.0.0.1:8000/books/1`\n",
      "        *   **DELETE /books/1:** `curl -X DELETE http://127.0.0.1:8000/books/1`\n",
      "        *   **Swagger UI:**  Open your browser and go to `http://127.0.0.1:8000/docs`\n",
      "        *   **ReDoc:** Open your browser and go to `http://127.0.0.1:8000/redoc`\n",
      "\n",
      "**Key Considerations for REST API Development:**\n",
      "\n",
      "*   **HTTP Methods:** Use the correct HTTP methods (GET, POST, PUT, DELETE, PATCH) for the operations you're performing on resources.\n",
      "*   **Status Codes:**  Return appropriate HTTP status codes to indicate the success or failure of requests (e.g., 200 OK, 201 Created, 204 No Content, 400 Bad Request, 404 Not Found, 500 Internal Server Error).\n",
      "*   **Data Serialization:**  Use JSON (typically) for data serialization and deserialization.  Most web frameworks handle this automatically.\n",
      "*   **Error Handling:** Implement robust error handling to gracefully handle unexpected situations and provide informative error messages.\n",
      "*   **Input Validation:**  Validate incoming data to ensure it meets your requirements and to prevent security vulnerabilities.  FastAPI's Pydantic integration is excellent for this.\n",
      "*   **Authentication and Authorization:**  Implement authentication (verifying user identity) and authorization (controlling access to resources) to secure your API.  Popular methods include API keys, JWT (JSON Web Tokens), and OAuth 2.0.\n",
      "*   **Database Integration:**  Connect to a database (e.g., PostgreSQL, MySQL, MongoDB) to store and retrieve data.  Use an ORM (Object-Relational Mapper) like SQLAlchemy (Flask) or an ODM (Object-Document Mapper) like MongoEngine (for MongoDB) to simplify database interactions.\n",
      "*   **API Design:** Design your API with a clear and consistent structure to make it easy to use and understand.  Consider using a standard like RESTful principles.\n",
      "*   **Documentation:**  Document your API thoroughly, including endpoints, request and response formats, and error codes.  FastAPI's automatic documentation is a significant advantage.\n",
      "*   **Testing:** Write unit tests and integration tests to ensure your API functions correctly.\n",
      "*   **Deployment:** Choose a deployment platform (e.g., AWS, Google Cloud, Heroku) and configure your API to run in a production environment.\n",
      "*   **Rate Limiting:** Protect your API from abuse by implementing rate limiting to restrict the number of requests from a client within a specific time period.\n",
      "\n",
      "Choose the framework that best suits your needs.  Flask is a good choice for smaller projects or when you want more control over every aspect of the API.  FastAPI is excellent for larger projects, high performance, and when you want built-in features like data validation and automatic documentation.  Both are excellent choices for creating REST APIs in Python.\n"
     ]
    }
   ],
   "source": [
    "print(response.content)"
   ]
  },
  {
   "cell_type": "code",
   "execution_count": 5,
   "id": "8a29a423",
   "metadata": {},
   "outputs": [],
   "source": [
    "from langchain.messages import HumanMessage, AIMessage, SystemMessage"
   ]
  },
  {
   "cell_type": "code",
   "execution_count": null,
   "id": "1c2e1590",
   "metadata": {},
   "outputs": [],
   "source": [
    "from langchain.messages import HumanMessage, AIMessage, SystemMessage\n",
    "\n",
    "\n",
    "system_msg = SystemMessage(\"You are a helpful assistant.\")\n",
    "human_msg = HumanMessage(\"Hello, how are you?\")\n",
    "\n",
    "# Use with chat models\n",
    "messages = [system_msg, human_msg]\n",
    "response = model.invoke(messages)  # Returns AIMessage\n",
    "response"
   ]
  },
  {
   "cell_type": "code",
   "execution_count": 6,
   "id": "48cd627f",
   "metadata": {},
   "outputs": [
    {
     "data": {
      "text/plain": [
       "AIMessage(content='Let\\'s analyze the statements:\\n\\n*   **A says: \"B is a liar.\"**\\n*   **B says: \"C is a liar.\"**\\n*   **C says: \"Both A and B are liars.\"**\\n\\nWe\\'ll consider different scenarios:\\n\\n**Scenario 1: A is a truth-teller.**\\nIf A is telling the truth, then B is a liar.\\nIf B is a liar, then B\\'s statement \"C is a liar\" is false, meaning C is a truth-teller.\\nIf C is a truth-teller, then C\\'s statement \"Both A and B are liars\" is false. This is consistent with A being a truth-teller and B being a liar.\\nSo, in this scenario:\\n*   A is a truth-teller.\\n*   B is a liar.\\n*   C is a truth-teller.\\nBut, C is a truth teller, and he said \"Both A and B are liars.\" This contradicts our understanding of C being a truth teller. So this scenario is impossible.\\n\\n**Scenario 2: A is a liar.**\\nIf A is lying, then A\\'s statement \"B is a liar\" is false, meaning B is a truth-teller.\\nIf B is a truth-teller, then B\\'s statement \"C is a liar\" is true, so C is a liar.\\nIf C is a liar, then C\\'s statement \"Both A and B are liars\" is false. Since A is a liar and B is a truth-teller, this is consistent.\\nSo, in this scenario:\\n*   A is a liar.\\n*   B is a truth-teller.\\n*   C is a liar.\\n\\n**Let\\'s check the consistency of scenario 2:**\\n\\n*   A (liar) says \"B is a liar\" (false statement).\\n*   B (truth-teller) says \"C is a liar\" (true statement).\\n*   C (liar) says \"Both A and B are liars\" (false statement).\\n\\nAll the statements are consistent with the assumptions.\\n\\n**Final Answer:**\\n*   **A is a liar.**\\n*   **B is a truth-teller.**\\n*   **C is a liar.**', additional_kwargs={}, response_metadata={'prompt_feedback': {'block_reason': 0, 'safety_ratings': []}, 'finish_reason': 'STOP', 'model_name': 'gemini-2.0-flash-lite', 'safety_ratings': [], 'grounding_metadata': {}, 'model_provider': 'google_genai'}, id='lc_run--6f13132e-afd0-4b50-9815-e841d1e68371-0', usage_metadata={'input_tokens': 91, 'output_tokens': 484, 'total_tokens': 575, 'input_token_details': {'cache_read': 0}})"
      ]
     },
     "execution_count": 6,
     "metadata": {},
     "output_type": "execute_result"
    }
   ],
   "source": [
    "model.invoke(question)"
   ]
  },
  {
   "cell_type": "code",
   "execution_count": 7,
   "id": "7e7c6146",
   "metadata": {},
   "outputs": [
    {
     "data": {
      "text/plain": [
       "AIMessage(content=\" It's a complex and dynamic system, but understanding its basics is crucial for anyone looking to build wealth or simply understand the financial world. Here's a comprehensive look at the stock market:\\n\\n**What is the Stock Market?**\\n\\nThe stock market acts as a marketplace for stocks, also known as equities. When a company wants to raise capital, it can issue shares of ownership to the public. These shares represent a piece of the company, and owning them entitles you to a portion of the company's profits (through dividends) and potential appreciation in value.\\n\\n**Key Players in the Stock Market:**\\n\\n*   **Companies:** These are the entities that issue shares to raise capital.\\n*   **Investors:** Individuals or institutions who buy and sell stocks.\\n*   **Brokers:** Intermediaries who facilitate the buying and selling of stocks.\\n*   **Exchanges:** Organized marketplaces (like the New York Stock Exchange or NASDAQ) where stocks are traded.\\n*   **Regulators:** Organizations like the Securities and Exchange Commission (SEC) that oversee the market and protect investors.\\n\\n**How the Stock Market Works:**\\n\\n1.  **Going Public (IPO):** When a private company decides to raise capital from the public, it undergoes an Initial Public Offering (IPO). This involves registering with regulatory bodies and offering shares for sale to investors.\\n2.  **Trading:** After the IPO, the company's shares are listed on a stock exchange. Investors can then buy and sell these shares through brokers.\\n3.  **Supply and Demand:** The price of a stock is determined by the forces of supply and demand. If more people want to buy a stock (demand) than sell it (supply), the price goes up. Conversely, if more people want to sell a stock than buy it, the price goes down.\\n4.  **Market Indexes:** Indexes like the S&P 500, Dow Jones Industrial Average, and NASDAQ Composite track the performance of a group of stocks, providing a snapshot of the overall market's health.\\n\\n**Why Invest in the Stock Market?**\\n\\n*   **Potential for High Returns:** Stocks have historically offered higher returns than other investment options like bonds or savings accounts.\\n*   **Ownership in Companies:** Investing in stocks gives you a stake in the success of the companies you believe in.\\n*   **Diversification:** The stock market offers a vast array of investment options, allowing you to diversify your portfolio and reduce risk.\\n*   **Inflation Hedge:** Stocks can help protect your investments from the eroding effects of inflation.\\n\\n**Risks of Investing in the Stock Market:**\\n\\n*   **Market Volatility:** Stock prices can fluctuate significantly in the short term, leading to potential losses.\\n*   **Company-Specific Risk:** The performance of a company can impact the value of its stock.\\n*   **Economic Risk:** Broader economic factors like recessions or inflation can affect the entire market.\\n*   **Loss of Principal:** There's always a risk that you could lose some or all of your investment.\\n\\n**Types of Investments:**\\n\\n*   **Stocks (Equities):** Represent ownership in a company.\\n*   **Bonds:** Debt securities issued by governments or corporations.\\n*   **Mutual Funds:** Professionally managed portfolios that hold a variety of stocks, bonds, or other assets.\\n*   **Exchange-Traded Funds (ETFs):** Similar to mutual funds, but trade on exchanges like individual stocks.\\n\\n**How to Start Investing in the Stock Market:**\\n\\n1.  **Open a Brokerage Account:** Choose a reputable broker that offers the investment options and services you need.\\n2.  **Determine Your Investment Goals:** What are you saving for? What is your risk tolerance?\\n3.  **Research and Select Investments:** Choose stocks, funds, or other investments that align with your goals and risk tolerance.\\n4.  **Monitor Your Portfolio:** Regularly track the performance of your investments and make adjustments as needed.\\n\\n**Tips for Successful Investing:**\\n\\n*   **Invest for the Long Term:** The stock market is best suited for long-term investing.\\n*   **Diversify Your Portfolio:** Don't put all your eggs in one basket.\\n*   **Do Your Research:** Understand the companies you invest in.\\n*   **Stay Disciplined:** Stick to your investment strategy and avoid emotional decisions.\\n*   **Consider Professional Advice:** If needed, seek guidance from a financial advisor.\\n\\n**Conclusion:**\\n\\nThe stock market can be a powerful tool for building wealth, but it's essential to approach it with knowledge, caution, and a long-term perspective. By understanding the basics, managing risk, and staying informed, you can navigate the market and potentially achieve your financial goals.\", additional_kwargs={}, response_metadata={'prompt_feedback': {'block_reason': 0, 'safety_ratings': []}, 'finish_reason': 'STOP', 'model_name': 'gemini-2.0-flash-lite', 'safety_ratings': [], 'grounding_metadata': {}, 'model_provider': 'google_genai'}, id='lc_run--be8629f7-a10c-4efe-b983-7d203154f38d-0', usage_metadata={'input_tokens': 27, 'output_tokens': 992, 'total_tokens': 1019, 'input_token_details': {'cache_read': 0}})"
      ]
     },
     "execution_count": 7,
     "metadata": {},
     "output_type": "execute_result"
    }
   ],
   "source": [
    "from langchain.messages import SystemMessage, HumanMessage, AIMessage\n",
    "\n",
    "messages = [\n",
    "    SystemMessage(\"You are a financial expert\"), \n",
    "    HumanMessage(\"Write a article on stock market\"), \n",
    "    AIMessage(\"Stock market is a place where shares of publicly traded companies are bought and sold.\")\n",
    "]\n",
    "response = model.invoke(messages)\n",
    "response"
   ]
  },
  {
   "cell_type": "code",
   "execution_count": 8,
   "id": "9bcfcd77",
   "metadata": {},
   "outputs": [
    {
     "data": {
      "text/plain": [
       "AIMessage(content=' amid economic uncertainties.', additional_kwargs={}, response_metadata={'prompt_feedback': {'block_reason': 0, 'safety_ratings': []}, 'finish_reason': 'STOP', 'model_name': 'gemini-2.0-flash-lite', 'safety_ratings': [], 'grounding_metadata': {}, 'model_provider': 'google_genai'}, id='lc_run--3b8faee9-1608-48a8-a8c1-5eab6a0f7e5b-0', usage_metadata={'input_tokens': 25, 'output_tokens': 5, 'total_tokens': 30, 'input_token_details': {'cache_read': 0}})"
      ]
     },
     "execution_count": 8,
     "metadata": {},
     "output_type": "execute_result"
    }
   ],
   "source": [
    "messages = [\n",
    "    {\"role\": \"system\", \"content\": \"You are a financial expert\"},\n",
    "    {\"role\": \"user\", \"content\": \"Write an analysis about stock market\"},\n",
    "    {\"role\": \"assistant\", \"content\": \"Markets show growth trend, With tech stocks leading gains, Investors stay calm\"}\n",
    "]\n",
    "response = model.invoke(messages)\n",
    "response"
   ]
  },
  {
   "cell_type": "code",
   "execution_count": 10,
   "id": "ba3d0d4d",
   "metadata": {},
   "outputs": [
    {
     "name": "stdout",
     "output_type": "stream",
     "text": [
      "Let\n",
      "****************************************************************************************************\n",
      "'s analyze\n",
      "****************************************************************************************************\n",
      " the statements:\n",
      "\n",
      "*   **A says: “B is a liar.”**\n",
      "****************************************************************************************************\n",
      "\n",
      "*   **B says: “C is a liar.”**\n",
      "*   **\n",
      "****************************************************************************************************\n",
      "C says: “Both A and B are liars.”**\n",
      "\n",
      "We can consider different scenarios:\n",
      "\n",
      "**Scenario 1: A is a truth-teller\n",
      "****************************************************************************************************\n",
      ".**\n",
      "If A is a truth-teller, then B is a liar (according to A's statement).\n",
      "If B is a liar, then B'\n",
      "****************************************************************************************************\n",
      "s statement \"C is a liar\" is false, meaning C is a truth-teller.\n",
      "If C is a truth-teller, then C's statement \"Both A and B are liars\" is false. This is consistent with A\n",
      "****************************************************************************************************\n",
      " being a truth-teller and B being a liar.\n",
      "**Conclusion of Scenario 1: A is a truth-teller, B is a liar, and C is a truth-teller.**\n",
      "However, this is not possible as a\n",
      "****************************************************************************************************\n",
      " truth-teller and a liar cannot both exist.\n",
      "\n",
      "**Scenario 2: A is a liar.**\n",
      "If A is a liar, then A's statement \"B is a liar\" is false, meaning B is a truth-teller.\n",
      "If B is a truth-teller, then B's statement \"C is\n",
      "****************************************************************************************************\n",
      " a liar\" is true, meaning C is a liar.\n",
      "If C is a liar, then C's statement \"Both A and B are liars\" is false. This is consistent with A being a liar and B being a truth-teller.\n",
      "**Conclusion of Scenario 2: A is a liar,\n",
      "****************************************************************************************************\n",
      " B is a truth-teller, and C is a liar.**\n",
      "\n",
      "Let's check if this is possible:\n",
      "*   A (liar): \"B is a liar\" - False (since B is a truth-teller) - Consistent.\n",
      "*   B (truth-teller): \"C is a liar\"\n",
      "****************************************************************************************************\n",
      " - True - Consistent.\n",
      "*   C (liar): \"Both A and B are liars\" - False (since B is a truth-teller) - Consistent.\n",
      "\n",
      "**Therefore, the solution is:**\n",
      "*   **A is a liar.**\n",
      "*   **B is a truth-teller.**\n",
      "****************************************************************************************************\n",
      "\n",
      "*   **C is a liar.**\n",
      "****************************************************************************************************\n",
      "\n",
      "****************************************************************************************************\n"
     ]
    }
   ],
   "source": [
    "chunks = []\n",
    "full_message = None\n",
    "for chunk in model.stream(question):\n",
    "    chunks.append(chunk)\n",
    "    print(chunk.text)\n",
    "    print(\"*\"*100)\n",
    "    full_message = chunk if full_message is None else full_message + chunk"
   ]
  },
  {
   "cell_type": "code",
   "execution_count": 11,
   "id": "aa44a06e",
   "metadata": {},
   "outputs": [
    {
     "data": {
      "text/plain": [
       "AIMessageChunk(content='Let\\'s analyze the statements:\\n\\n*   **A says: “B is a liar.”**\\n*   **B says: “C is a liar.”**\\n*   **C says: “Both A and B are liars.”**\\n\\nWe can consider different scenarios:\\n\\n**Scenario 1: A is a truth-teller.**\\nIf A is a truth-teller, then B is a liar (according to A\\'s statement).\\nIf B is a liar, then B\\'s statement \"C is a liar\" is false, meaning C is a truth-teller.\\nIf C is a truth-teller, then C\\'s statement \"Both A and B are liars\" is false. This is consistent with A being a truth-teller and B being a liar.\\n**Conclusion of Scenario 1: A is a truth-teller, B is a liar, and C is a truth-teller.**\\nHowever, this is not possible as a truth-teller and a liar cannot both exist.\\n\\n**Scenario 2: A is a liar.**\\nIf A is a liar, then A\\'s statement \"B is a liar\" is false, meaning B is a truth-teller.\\nIf B is a truth-teller, then B\\'s statement \"C is a liar\" is true, meaning C is a liar.\\nIf C is a liar, then C\\'s statement \"Both A and B are liars\" is false. This is consistent with A being a liar and B being a truth-teller.\\n**Conclusion of Scenario 2: A is a liar, B is a truth-teller, and C is a liar.**\\n\\nLet\\'s check if this is possible:\\n*   A (liar): \"B is a liar\" - False (since B is a truth-teller) - Consistent.\\n*   B (truth-teller): \"C is a liar\" - True - Consistent.\\n*   C (liar): \"Both A and B are liars\" - False (since B is a truth-teller) - Consistent.\\n\\n**Therefore, the solution is:**\\n*   **A is a liar.**\\n*   **B is a truth-teller.**\\n*   **C is a liar.**', additional_kwargs={}, response_metadata={'safety_ratings': [], 'grounding_metadata': {}, 'model_provider': 'google_genai', 'finish_reason': 'STOP', 'model_name': 'gemini-2.0-flash-lite'}, id='lc_run--c5df2a1a-c75e-49fe-aac3-5ffa0156a833', usage_metadata={'input_tokens': 91, 'output_tokens': 467, 'total_tokens': 558, 'input_token_details': {'cache_read': 0}}, chunk_position='last')"
      ]
     },
     "execution_count": 11,
     "metadata": {},
     "output_type": "execute_result"
    }
   ],
   "source": [
    "full_message"
   ]
  },
  {
   "cell_type": "code",
   "execution_count": 12,
   "id": "f7264e3b",
   "metadata": {},
   "outputs": [
    {
     "data": {
      "text/plain": [
       "langchain_core.messages.ai.AIMessageChunk"
      ]
     },
     "execution_count": 12,
     "metadata": {},
     "output_type": "execute_result"
    }
   ],
   "source": [
    "type(full_message)"
   ]
  },
  {
   "cell_type": "code",
   "execution_count": 13,
   "id": "f6bf27f6",
   "metadata": {},
   "outputs": [
    {
     "data": {
      "text/plain": [
       "AIMessage(content='The weather in San Francisco is sunny and 72°F.', additional_kwargs={}, response_metadata={'prompt_feedback': {'block_reason': 0, 'safety_ratings': []}, 'finish_reason': 'STOP', 'model_name': 'gemini-2.0-flash-lite', 'safety_ratings': [], 'grounding_metadata': {}, 'model_provider': 'google_genai'}, id='lc_run--1d1977b2-7199-4ee5-a360-3ada9b1330c0-0', usage_metadata={'input_tokens': 26, 'output_tokens': 15, 'total_tokens': 41, 'input_token_details': {'cache_read': 0}})"
      ]
     },
     "execution_count": 13,
     "metadata": {},
     "output_type": "execute_result"
    }
   ],
   "source": [
    "from langchain.messages import ToolMessage\n",
    "\n",
    "# user asking question\n",
    "# model get invoked\n",
    "# After a model makes a tool call\n",
    "ai_message = AIMessage(\n",
    "    content=[],\n",
    "    tool_calls=[{\n",
    "        \"name\": \"get_weather\",\n",
    "        \"args\": {\"location\": \"San Francisco\"},\n",
    "        \"id\": \"call_123\"\n",
    "    }]\n",
    ")\n",
    "\n",
    "# Execute tool and create result message\n",
    "weather_result = \"Sunny, 72°F\" # resuult oif tool call\n",
    "\n",
    "# creating ToolMessage using Tool call result\n",
    "tool_message = ToolMessage(\n",
    "    content=weather_result,\n",
    "    tool_call_id=\"call_123\"  # Must match the call ID\n",
    ")\n",
    "\n",
    "# Continue conversation by adding ToolMessage object\n",
    "messages = [\n",
    "    HumanMessage(\"What's the weather in San Francisco?\"),\n",
    "    ai_message,  # Model's tool call\n",
    "    tool_message,  # Tool execution result\n",
    "]\n",
    "response = model.invoke(messages)  # Model processes the result\n",
    "response"
   ]
  },
  {
   "cell_type": "code",
   "execution_count": 14,
   "id": "0bcf906b",
   "metadata": {},
   "outputs": [
    {
     "data": {
      "text/plain": [
       "[HumanMessage(content=\"What's the weather in San Francisco?\", additional_kwargs={}, response_metadata={}),\n",
       " AIMessage(content=[], additional_kwargs={}, response_metadata={}, tool_calls=[{'name': 'get_weather', 'args': {'location': 'San Francisco'}, 'id': 'call_123', 'type': 'tool_call'}]),\n",
       " ToolMessage(content='Sunny, 72°F', tool_call_id='call_123')]"
      ]
     },
     "execution_count": 14,
     "metadata": {},
     "output_type": "execute_result"
    }
   ],
   "source": [
    "messages"
   ]
  },
  {
   "cell_type": "code",
   "execution_count": null,
   "id": "0af9cd3f",
   "metadata": {},
   "outputs": [],
   "source": []
  }
 ],
 "metadata": {
  "kernelspec": {
   "display_name": "Python 3",
   "language": "python",
   "name": "python3"
  },
  "language_info": {
   "codemirror_mode": {
    "name": "ipython",
    "version": 3
   },
   "file_extension": ".py",
   "mimetype": "text/x-python",
   "name": "python",
   "nbconvert_exporter": "python",
   "pygments_lexer": "ipython3",
   "version": "3.12.1"
  }
 },
 "nbformat": 4,
 "nbformat_minor": 5
}
